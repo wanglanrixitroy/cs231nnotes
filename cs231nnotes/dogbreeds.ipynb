{
 "cells": [
  {
   "cell_type": "code",
   "execution_count": 8,
   "metadata": {},
   "outputs": [],
   "source": [
    "import pandas as pd\n",
    "import os\n",
    "from os.path import abspath, join, dirname, normpath\n",
    "import sys\n",
    "from skimage import io\n",
    "import skimage\n",
    "from PIL import Image\n",
    "import torch\n",
    "from torch.utils.data import Dataset, DataLoader\n",
    "import numpy as np\n",
    "local_path = normpath(abspath(dirname(\"__file__\")))"
   ]
  },
  {
   "cell_type": "markdown",
   "metadata": {},
   "source": [
    "covert the breeds into binary"
   ]
  },
  {
   "cell_type": "code",
   "execution_count": 16,
   "metadata": {},
   "outputs": [],
   "source": [
    "def makelabelset(csv_path):\n",
    "    landmarks_frame = pd.read_csv(csv_path, sep=',')\n",
    "    breeds = []\n",
    "    for name in landmarks_frame.breed:\n",
    "        if name not in breeds:\n",
    "            breeds.append(name)\n",
    "    classes = list(range(len(breeds)))\n",
    "    labelset = dict(zip(breeds, classes))\n",
    "    return labelset, breeds"
   ]
  },
  {
   "cell_type": "code",
   "execution_count": 17,
   "metadata": {},
   "outputs": [],
   "source": [
    "class DogbreedDataset(Dataset):\n",
    "    \"\"\"Load in Dog Breed Dataset\"\"\"\n",
    "    \n",
    "    def __init__(self, csv_file, root_dir, transform=None):\n",
    "        \"\"\"\n",
    "        Args:\n",
    "            csv_file (string): Path to the csv file with annotations.\n",
    "            root_dir (string): Directory with all the images.\n",
    "            transform (callable, optional): Optional transform to be applied \n",
    "                on a sample.\n",
    "        \"\"\"\n",
    "        csv_file = join(local_path, csv_file)\n",
    "        root_dir = join(local_path, root_dir)\n",
    "        self.landmarks_frame = pd.read_csv(csv_file, sep=',')\n",
    "        self.root_dir = root_dir\n",
    "        self.transform = transform\n",
    "        self.labelset, _ = makelabelset(csv_file)\n",
    "        \n",
    "    def __len__(self):\n",
    "        return len(self.landmarks_frame)\n",
    "    \n",
    "    def __getitem__(self, idx):\n",
    "        # define the name of pic\n",
    "        _img_name = self.landmarks_frame.iloc[idx, 0] + '.jpg'\n",
    "        img_name = os.path.join(self.root_dir, _img_name)\n",
    "        # read the jpg\n",
    "        image = io.imread(img_name)\n",
    "        # define the label\n",
    "        landmarks = self.labelset[self.landmarks_frame.iloc[idx, 1]]\n",
    "        dataset = {'image': image, 'landmarks': landmarks}\n",
    "        \n",
    "        if self.transform:\n",
    "            dataset = self.transform(dataset)\n",
    "            \n",
    "        return dataset"
   ]
  },
  {
   "cell_type": "code",
   "execution_count": 18,
   "metadata": {},
   "outputs": [],
   "source": [
    "dogdataset = DogbreedDataset('all/labels.csv', 'all/train')\n",
    "dogdataloader = DataLoader(dogdataset, batch_size=4, shuffle=True, num_workers=2)"
   ]
  },
  {
   "cell_type": "code",
   "execution_count": 19,
   "metadata": {},
   "outputs": [
    {
     "data": {
      "text/plain": [
       "44"
      ]
     },
     "execution_count": 19,
     "metadata": {},
     "output_type": "execute_result"
    }
   ],
   "source": [
    "(dogdataset[100]['landmarks'])"
   ]
  },
  {
   "cell_type": "code",
   "execution_count": 24,
   "metadata": {},
   "outputs": [],
   "source": [
    "from skimage import transform\n",
    "class Rescale(object):\n",
    "    \"\"\"Rescale the image in a sample to a given size.\n",
    "    \n",
    "    Args:\n",
    "        output_size (tuple or int): Desired output size. If tuple, output is \n",
    "            matched to output_size. If int, smaller of image edges is matched\n",
    "            to output_size keeping aspect ratio the same.\n",
    "    \"\"\"\n",
    "    \n",
    "    def __init__(self, output_size):\n",
    "        assert isinstance(output_size, (int, tuple))\n",
    "        self.output_size = output_size\n",
    "        \n",
    "    def __call__(self, sample):\n",
    "        image, landmarks = sample['image'], sample['landmarks']\n",
    "        h,w = image.shape[:2]\n",
    "        if isinstance(self.output_size, int):\n",
    "            if h > w:\n",
    "                new_h, new_w = self.output_size * h / w, self.output_size\n",
    "            else:\n",
    "                new_h, new_w = self.output_size, self.output_size * w / h\n",
    "        else:\n",
    "            new_h, new_w = self.output_size\n",
    "            \n",
    "        new_h, new_w = int(new_h), int(new_w)\n",
    "        \n",
    "        img = transform.resize(image, (new_h, new_w))\n",
    "        \n",
    "        return {'image': img, 'landarks': landmarks}"
   ]
  },
  {
   "cell_type": "markdown",
   "metadata": {},
   "source": [
    "one-hot the dog breeds"
   ]
  },
  {
   "cell_type": "code",
   "execution_count": 25,
   "metadata": {},
   "outputs": [],
   "source": [
    "class ToTensor(object):\n",
    "    \"\"\"Covert ndarrays in sample to Tensors.\"\"\"\n",
    "    \n",
    "    def __call__(self, sample):\n",
    "        image, landmarks = sample['image'], sample['landmarks']\n",
    "        image = image.transpose((2, 0, 1))\n",
    "        # one-hot\n",
    "        num_classes = 120\n",
    "        batch_size = 1\n",
    "        label = torch.LongTensor([[landmarks]])\n",
    "        landmarks = torch.zeros(batch_size, num_classes).scatter_(1, label, 1)\n",
    "        return {'image': torch.from_numpy(image), \n",
    "                'landmarks': landmarks}"
   ]
  },
  {
   "cell_type": "code",
   "execution_count": 26,
   "metadata": {},
   "outputs": [],
   "source": [
    "from torchvision import transforms\n",
    "dogdataset = DogbreedDataset(csv_file='all/labels.csv', \n",
    "                             root_dir='all/train', \n",
    "                             transform= transforms.Compose([\n",
    "                                 Rescale(224),\n",
    "                                 ToTensor()\n",
    "                             ]))"
   ]
  }
 ],
 "metadata": {
  "kernelspec": {
   "display_name": "Python 2",
   "language": "python",
   "name": "python2"
  },
  "language_info": {
   "codemirror_mode": {
    "name": "ipython",
    "version": 2
   },
   "file_extension": ".py",
   "mimetype": "text/x-python",
   "name": "python",
   "nbconvert_exporter": "python",
   "pygments_lexer": "ipython2",
   "version": "2.7.12"
  }
 },
 "nbformat": 4,
 "nbformat_minor": 2
}
