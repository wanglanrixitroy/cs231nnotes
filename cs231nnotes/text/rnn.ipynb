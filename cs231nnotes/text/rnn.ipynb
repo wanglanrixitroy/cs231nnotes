{
 "cells": [
  {
   "cell_type": "code",
   "execution_count": 1,
   "metadata": {},
   "outputs": [],
   "source": [
    "import torch\n",
    "import torch.nn as nn\n",
    "from torch.autograd import Variable"
   ]
  },
  {
   "cell_type": "code",
   "execution_count": 2,
   "metadata": {},
   "outputs": [],
   "source": [
    "class RNN(nn.Module):\n",
    "    def __init__(self, input_size, hidden_size, output_size):\n",
    "        super(RNN, self).__init__()\n",
    "        self.hidden_size = hidden_size\n",
    "        self.i2h = nn.Linear(input_size + hidden_size, hidden_size)\n",
    "        sdle.i2o = nn.Linear(input_size + hidden_size, output_size)\n",
    "        self.softmax = nn.LogSoftmax(dim=1)\n",
    "    \n",
    "    def forward(self, inp, hidden):\n",
    "        combined = torch.cat((inp, hidden), 1)\n",
    "        hidden = self.i2h(combined)\n",
    "        output = self.i2o(combined)\n",
    "        return output, hidden\n",
    "    \n",
    "    def initHidden(self):\n",
    "        return Variable(torch.zeros(1, self.hidden_size))"
   ]
  },
  {
   "cell_type": "code",
   "execution_count": 4,
   "metadata": {},
   "outputs": [],
   "source": [
    "import numpy as np\n",
    "import sys\n",
    "from os.path import dirname, join, abspath"
   ]
  },
  {
   "cell_type": "code",
   "execution_count": 5,
   "metadata": {},
   "outputs": [
    {
     "data": {
      "text/plain": [
       "'/home/SENSETIME/xiedongming/Desktop/cs231nnotes/cs231nnotes/text'"
      ]
     },
     "execution_count": 5,
     "metadata": {},
     "output_type": "execute_result"
    }
   ],
   "source": [
    "import os\n",
    "os.getcwd()"
   ]
  },
  {
   "cell_type": "code",
   "execution_count": 14,
   "metadata": {},
   "outputs": [],
   "source": [
    "doc_path = join(dirname('__file__'), 'input.txt')\n",
    "data = open(doc_path, 'r').read()\n",
    "chars = list(set(data))"
   ]
  },
  {
   "cell_type": "code",
   "execution_count": 15,
   "metadata": {},
   "outputs": [],
   "source": [
    "data_size, vocab_size = len(data), len(chars)"
   ]
  },
  {
   "cell_type": "code",
   "execution_count": 16,
   "metadata": {},
   "outputs": [
    {
     "name": "stdout",
     "output_type": "stream",
     "text": [
      "The Thanksgiving holidays will provide little respite from rhetoric in a highly polarised US.\n",
      "\n",
      "In this week of Thanksgiving, a holiday observed by most Americans regardless of creed, ethnicity, gender, age, sexual orientation or politics, it seems untimely to talk of national discord and divisiveness.\n",
      "\n",
      "However, a shared activity and shared menu of turkey, cranberry sauce and pumpkin pie is something altogether different from a genuine act of commonality. In these angry times, America seems incapable of putting aside its differences, of truly coming together and even of engineering temporary political ceasefires.\n",
      "\n",
      "Calamitous events are instantly politicised. Even as the death toll continues to mount in California, the wildfires have sparked rancorous debates about forestry policy and global warming. Terror attacks claimed by ISIS are invariably followed by rows about immigration.\n",
      "\n",
      "Each successive multiple shooting fuels the unending fight between those who believe thoughts and prayers offer an adequate response and those demanding tighter controls on firearms and gun ownership.\n",
      "\n",
      "The massacre at the Tree of Life synagogue in Pittsburgh last month also shone a light on an alarming rise in anti-Semitism. The Anti-Defamation League reported a 57% spike in anti-Semitic incidents in 2017.\n",
      "\n",
      "Donald Trump's visit to Pittsburgh, a customary presidential act at such times of bereavement, became contentious rather than communal, with a Jewish social justice group mounting street protests because of his unapologetic embrace of nationalism and his characterisation of some of hate-spewing racists in Charlottesville as \"decent people\".\n",
      "\n",
      "This kind of protest, which drew widespread community support, would have been almost unthinkable under most recent presidents. Given the prevailing mood of acrimony, however, and Donald Trump's role in stoking it, it came as no surprise.\n",
      "\n",
      "Even acts of sacred remembrance, such as the recent trip to France to mark the 100th anniversary of the armistice that ended World War One, become needlessly controversial. Prior to Mr Trump heeding the advice of the Secret Service not to travel by motorcade to an American war cemetery when Marine One was grounded by bad weather, a decision seized upon by critics as a dereliction of presidential duty, the trip had already taken an ugly turn.\n",
      "\n",
      "He arrived in France saying he planned to \"celebrate\" the end of World War One, a discordant choice of word. The moment Air Force One touched down in Paris, he also picked a fight with his host, the French president Emmanuel Macron. If ever there was a moment to observe a diplomatic ceasefire, surely it was the anniversary of the Armistice.\n",
      "\n"
     ]
    }
   ],
   "source": [
    "print (data)"
   ]
  },
  {
   "cell_type": "code",
   "execution_count": 17,
   "metadata": {},
   "outputs": [
    {
     "name": "stdout",
     "output_type": "stream",
     "text": [
      "['\\n', ' ', '\"', '%', \"'\", '-', ',', '.', '1', '0', '2', '5', '7', 'A', 'C', 'E', 'D', 'G', 'F', 'I', 'H', 'J', 'M', 'L', 'O', 'P', 'S', 'U', 'T', 'W', 'a', 'c', 'b', 'e', 'd', 'g', 'f', 'i', 'h', 'k', 'j', 'm', 'l', 'o', 'n', 'q', 'p', 's', 'r', 'u', 't', 'w', 'v', 'y', 'x', 'z']\n"
     ]
    }
   ],
   "source": [
    "print (chars)"
   ]
  },
  {
   "cell_type": "code",
   "execution_count": 18,
   "metadata": {},
   "outputs": [
    {
     "name": "stdout",
     "output_type": "stream",
     "text": [
      "data has 2678 characters, 56 unique.\n"
     ]
    }
   ],
   "source": [
    "print 'data has %d characters, %d unique.' % (data_size, vocab_size)"
   ]
  },
  {
   "cell_type": "code",
   "execution_count": 22,
   "metadata": {},
   "outputs": [],
   "source": [
    "char_to_ix = { ch:i for i, ch in enumerate(chars)}\n",
    "ix_to_char = { i:ch for i, ch in enumerate(chars) }"
   ]
  },
  {
   "cell_type": "code",
   "execution_count": 23,
   "metadata": {},
   "outputs": [
    {
     "name": "stdout",
     "output_type": "stream",
     "text": [
      "{'\\n': 0, ' ': 1, '\"': 2, '%': 3, \"'\": 4, '-': 5, ',': 6, '.': 7, '1': 8, '0': 9, '2': 10, '5': 11, '7': 12, 'A': 13, 'C': 14, 'E': 15, 'D': 16, 'G': 17, 'F': 18, 'I': 19, 'H': 20, 'J': 21, 'M': 22, 'L': 23, 'O': 24, 'P': 25, 'S': 26, 'U': 27, 'T': 28, 'W': 29, 'a': 30, 'c': 31, 'b': 32, 'e': 33, 'd': 34, 'g': 35, 'f': 36, 'i': 37, 'h': 38, 'k': 39, 'j': 40, 'm': 41, 'l': 42, 'o': 43, 'n': 44, 'q': 45, 'p': 46, 's': 47, 'r': 48, 'u': 49, 't': 50, 'w': 51, 'v': 52, 'y': 53, 'x': 54, 'z': 55}\n"
     ]
    }
   ],
   "source": [
    "print (char_to_ix)"
   ]
  },
  {
   "cell_type": "code",
   "execution_count": 24,
   "metadata": {},
   "outputs": [
    {
     "name": "stdout",
     "output_type": "stream",
     "text": [
      "{0: '\\n', 1: ' ', 2: '\"', 3: '%', 4: \"'\", 5: '-', 6: ',', 7: '.', 8: '1', 9: '0', 10: '2', 11: '5', 12: '7', 13: 'A', 14: 'C', 15: 'E', 16: 'D', 17: 'G', 18: 'F', 19: 'I', 20: 'H', 21: 'J', 22: 'M', 23: 'L', 24: 'O', 25: 'P', 26: 'S', 27: 'U', 28: 'T', 29: 'W', 30: 'a', 31: 'c', 32: 'b', 33: 'e', 34: 'd', 35: 'g', 36: 'f', 37: 'i', 38: 'h', 39: 'k', 40: 'j', 41: 'm', 42: 'l', 43: 'o', 44: 'n', 45: 'q', 46: 'p', 47: 's', 48: 'r', 49: 'u', 50: 't', 51: 'w', 52: 'v', 53: 'y', 54: 'x', 55: 'z'}\n"
     ]
    }
   ],
   "source": [
    "print(ix_to_char)"
   ]
  },
  {
   "cell_type": "code",
   "execution_count": 25,
   "metadata": {},
   "outputs": [],
   "source": [
    "hidden_size = 100\n",
    "seq_length = 25\n",
    "learning_rate = 1e-1"
   ]
  },
  {
   "cell_type": "code",
   "execution_count": null,
   "metadata": {},
   "outputs": [],
   "source": [
    "def sample_rnn():\n",
    "    "
   ]
  }
 ],
 "metadata": {
  "kernelspec": {
   "display_name": "Python 2",
   "language": "python",
   "name": "python2"
  },
  "language_info": {
   "codemirror_mode": {
    "name": "ipython",
    "version": 2
   },
   "file_extension": ".py",
   "mimetype": "text/x-python",
   "name": "python",
   "nbconvert_exporter": "python",
   "pygments_lexer": "ipython2",
   "version": "2.7.12"
  }
 },
 "nbformat": 4,
 "nbformat_minor": 2
}
